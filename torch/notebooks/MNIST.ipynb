{
  "cells": [
    {
      "cell_type": "markdown",
      "metadata": {
        "id": "view-in-github",
        "colab_type": "text"
      },
      "source": [
        "<a href=\"https://colab.research.google.com/github/juankuntz/ParEM/blob/main/torch/notebooks/MNIST.ipynb\" target=\"_parent\"><img src=\"https://colab.research.google.com/assets/colab-badge.svg\" alt=\"Open In Colab\"/></a>"
      ]
    },
    {
      "cell_type": "markdown",
      "metadata": {
        "id": "gt4Gx4dLsh3f"
      },
      "source": [
        "You can comment out the colab setup / local setup depending on where you want to run the code."
      ]
    },
    {
      "cell_type": "markdown",
      "metadata": {
        "id": "_ELgDUrII6Ln"
      },
      "source": [
        "## Colab setup"
      ]
    },
    {
      "cell_type": "markdown",
      "metadata": {
        "id": "lq54rIj4sh3i"
      },
      "source": [
        "Installs and imports the necessary modules. Variables of interest:\n",
        "\n",
        "* `DATASET_PATH`: The directory of the dataset to be loaded or downloaded.\n",
        "* `CHECKPOINTS_PATH`: The directory where the checkpoints will be saved."
      ]
    },
    {
      "cell_type": "code",
      "execution_count": 1,
      "metadata": {
        "id": "TLCqb7XBKj2b",
        "tags": []
      },
      "outputs": [],
      "source": [
        "%%capture\n",
        "# Set paths\n",
        "from google.colab import drive\n",
        "drive.mount(\"/content/gdrive\", force_remount=False) # Mount drive to VM in colab\n",
        "DATASET_PATH = '/content/ParEM/datasets/MNIST'\n",
        "CHECKPOINTS_PATH = '/content/gdrive/MyDrive/ParEM/checkpoints'\n",
        "\n",
        "# Install missing packages\n",
        "!pip install torchtyping\n",
        "!pip install torchmetrics[image]\n",
        "!pip install wandb\n",
        "\n",
        "# Import standard modules\n",
        "import sys\n",
        "\n",
        "# Import custom modules\n",
        "!rm -rf ParEM\n",
        "!git clone https://github.com/juankuntz/ParEM.git\n",
        "REPOSITORY_PATH = '/content/ParEM/torch'\n",
        "if REPOSITORY_PATH not in sys.path:\n",
        "    sys.path.append(REPOSITORY_PATH)"
      ]
    },
    {
      "cell_type": "markdown",
      "metadata": {
        "id": "ulkOc1xTsh3k"
      },
      "source": [
        "## Local setup"
      ]
    },
    {
      "cell_type": "markdown",
      "metadata": {
        "id": "MhnXucJ2sh3k"
      },
      "source": [
        "Variables of interest:\n",
        "\n",
        "* `DATASET_PATH`: The directory of the dataset to be loaded or downloaded.\n",
        "* `CHECKPOINTS_PATH`: The directory where the checkpoints will be saved."
      ]
    },
    {
      "cell_type": "code",
      "execution_count": 2,
      "metadata": {
        "id": "GcAegeyysh3k"
      },
      "outputs": [],
      "source": [
        "# # Import standard modules\n",
        "# import sys\n",
        "\n",
        "# sys.path.append(\"../\")\n",
        "\n",
        "# DATASET_PATH = '../datasets/MNIST'\n",
        "# CHECKPOINTS_PATH = '../checkpoints'"
      ]
    },
    {
      "cell_type": "markdown",
      "metadata": {
        "id": "bdeY8MWzI6Lq"
      },
      "source": [
        "## General setup"
      ]
    },
    {
      "cell_type": "code",
      "execution_count": 3,
      "metadata": {
        "id": "HhHKhq7tI6Lq"
      },
      "outputs": [],
      "source": [
        "# Import standard modules\n",
        "import torch\n",
        "import numpy as np\n",
        "import matplotlib.pyplot as plt\n",
        "import pickle\n",
        "\n",
        "# Import custom modules\n",
        "from parem.models import NLVM\n",
        "from parem.algorithms import (PGD,\n",
        "                              ShortRun,\n",
        "                              VI,\n",
        "                              AlternatingBackprop)\n",
        "from parem.utils import get_mnist, load_checkpoint"
      ]
    },
    {
      "cell_type": "markdown",
      "metadata": {
        "id": "3S7vBXKyCtX3"
      },
      "source": [
        "# Set config variables"
      ]
    },
    {
      "cell_type": "code",
      "execution_count": 4,
      "metadata": {
        "id": "Ssu1R-nnaGpW"
      },
      "outputs": [],
      "source": [
        "# Data setttings\n",
        "N_IMAGES = 10000  # M: training set size \n",
        "\n",
        "# Training settings\n",
        "N_BATCH = 128 # M_b: batch size for theta updates\n",
        "N_EPOCHS = 100 # n_epochs = K * M_b / M where K = total number of iterations\n",
        "SEED = 1 # Seed for PRNG\n",
        "# Device on which to carry out computations:\n",
        "DEVICE = \"cuda\" if torch.cuda.is_available() else \"cpu\"\n",
        "OPTIMIZER = 'rmsprop'  # Theta optimizer\n",
        "\n",
        "# Model Settings\n",
        "X_DIM = 64  # d_x: dimension of latent space\n",
        "LIKELIHOOD_VAR = 0.01 ** 2  # sigma^2\n",
        "\n",
        "# PGD Settings\n",
        "STEP_SIZE = 1e-4 # h: step size \n",
        "LAMBDA = 1e-3 / (STEP_SIZE * N_IMAGES)  # lambda\n",
        "N_PARTICLES = 10 # N: number of particles"
      ]
    },
    {
      "cell_type": "markdown",
      "metadata": {
        "id": "tbrwaBFyRb4P"
      },
      "source": [
        "# Load dataset"
      ]
    },
    {
      "cell_type": "code",
      "execution_count": 5,
      "metadata": {
        "colab": {
          "base_uri": "https://localhost:8080/",
          "height": 423,
          "referenced_widgets": [
            "db78bdc724ea4e469aed6483270af3e6",
            "7384cc3fddb3497da7e8e74675770558",
            "cd7b60e8f3064dd098af88aeb9aa5847",
            "b53b5750d36746ea93834d2a539d0c49",
            "6fd8894f974241228c18cf292eb7ad3a",
            "b2d481979d0d4c8c9fba46137b8edf95",
            "f59c9ba46865427fa5a040d9952a5f8e",
            "74c70a3f0a774340a7232b18ee7ad5cd",
            "41b3b297b219440fad014c479b3b257b",
            "cd04b69edd6b454e873eae0b373fb58f",
            "b46b0108c7a84048a64f1ac63b66db77",
            "f865c346003f49db8a6784ffb410a290",
            "03fb5cd3e6d242eaadb5193ed058dc03",
            "f7e80971be274109af504bcadd6494cd",
            "8606c0c712b74bab9022663c02f377cb",
            "01fe347a05894ffda5c141a9f4581640",
            "9384d7bedad2447c83a82006f804dfde",
            "03b004bcb2404bf294ddc25ab405be24",
            "d6f36fa3c6df47d789cfa4da2d8d1aac",
            "4f354893266444a2983c1a004693b59f",
            "0d2d6f372f5b4c06b578dd38360ef762",
            "8c41369719ae42f396fec3f1c0421887",
            "fab8fe7d6e184c5f8c3739b7d3790460",
            "d8fd918543a3400a8fa21f99822d4228",
            "7fd9cee84dbd4174a7c58f5ecfd803e8",
            "7316d048144f41418c6fb3a3cf3861d0",
            "73fd678729a544c2b7bd1d6b58c9c285",
            "dba16405e30d4ef0b99f6f06c74c0e60",
            "941e15624fd242c38e3a0a3344dffc10",
            "24f306a65884416d8a23dde278b86516",
            "bc7649c6c1f34350866773cbff697057",
            "fa3999bfd22040bb976f076ba21cc364",
            "c17e52f9deda4c53ab2876a2b6e62ef2",
            "af0a881dd2b549eda69bae8eca220fa9",
            "c690615201cd4796a149a28a533969d9",
            "ade4fb3a610b4207ac78d04be4a7e776",
            "a8e94823260a4d9d8da81216d947bc1e",
            "d178d803da9d41afb84cf914a2e8fa3a",
            "6d2f6a989b7047b589f0e15050905f44",
            "a3529ce446fa46b39b8dfbffb2ac0948",
            "d079022e498548208f29d194d1bbc6b2",
            "1c265b91246342ea8397daad10a0465f",
            "d15c7e992d444a4ebbce83491e18568e",
            "e763d465f5b64464b001e2e16b52e17a"
          ]
        },
        "id": "aXOewTu5Piuw",
        "outputId": "624a8883-caf4-4bf1-a52b-31ffb8251795"
      },
      "outputs": [
        {
          "output_type": "stream",
          "name": "stdout",
          "text": [
            "Downloading http://yann.lecun.com/exdb/mnist/train-images-idx3-ubyte.gz\n",
            "Downloading http://yann.lecun.com/exdb/mnist/train-images-idx3-ubyte.gz to /content/ParEM/datasets/MNIST/MNIST/raw/train-images-idx3-ubyte.gz\n"
          ]
        },
        {
          "output_type": "display_data",
          "data": {
            "text/plain": [
              "  0%|          | 0/9912422 [00:00<?, ?it/s]"
            ],
            "application/vnd.jupyter.widget-view+json": {
              "version_major": 2,
              "version_minor": 0,
              "model_id": "db78bdc724ea4e469aed6483270af3e6"
            }
          },
          "metadata": {}
        },
        {
          "output_type": "stream",
          "name": "stdout",
          "text": [
            "Extracting /content/ParEM/datasets/MNIST/MNIST/raw/train-images-idx3-ubyte.gz to /content/ParEM/datasets/MNIST/MNIST/raw\n",
            "\n",
            "Downloading http://yann.lecun.com/exdb/mnist/train-labels-idx1-ubyte.gz\n",
            "Downloading http://yann.lecun.com/exdb/mnist/train-labels-idx1-ubyte.gz to /content/ParEM/datasets/MNIST/MNIST/raw/train-labels-idx1-ubyte.gz\n"
          ]
        },
        {
          "output_type": "display_data",
          "data": {
            "text/plain": [
              "  0%|          | 0/28881 [00:00<?, ?it/s]"
            ],
            "application/vnd.jupyter.widget-view+json": {
              "version_major": 2,
              "version_minor": 0,
              "model_id": "f865c346003f49db8a6784ffb410a290"
            }
          },
          "metadata": {}
        },
        {
          "output_type": "stream",
          "name": "stdout",
          "text": [
            "Extracting /content/ParEM/datasets/MNIST/MNIST/raw/train-labels-idx1-ubyte.gz to /content/ParEM/datasets/MNIST/MNIST/raw\n",
            "\n",
            "Downloading http://yann.lecun.com/exdb/mnist/t10k-images-idx3-ubyte.gz\n",
            "Downloading http://yann.lecun.com/exdb/mnist/t10k-images-idx3-ubyte.gz to /content/ParEM/datasets/MNIST/MNIST/raw/t10k-images-idx3-ubyte.gz\n"
          ]
        },
        {
          "output_type": "display_data",
          "data": {
            "text/plain": [
              "  0%|          | 0/1648877 [00:00<?, ?it/s]"
            ],
            "application/vnd.jupyter.widget-view+json": {
              "version_major": 2,
              "version_minor": 0,
              "model_id": "fab8fe7d6e184c5f8c3739b7d3790460"
            }
          },
          "metadata": {}
        },
        {
          "output_type": "stream",
          "name": "stdout",
          "text": [
            "Extracting /content/ParEM/datasets/MNIST/MNIST/raw/t10k-images-idx3-ubyte.gz to /content/ParEM/datasets/MNIST/MNIST/raw\n",
            "\n",
            "Downloading http://yann.lecun.com/exdb/mnist/t10k-labels-idx1-ubyte.gz\n",
            "Downloading http://yann.lecun.com/exdb/mnist/t10k-labels-idx1-ubyte.gz to /content/ParEM/datasets/MNIST/MNIST/raw/t10k-labels-idx1-ubyte.gz\n"
          ]
        },
        {
          "output_type": "display_data",
          "data": {
            "text/plain": [
              "  0%|          | 0/4542 [00:00<?, ?it/s]"
            ],
            "application/vnd.jupyter.widget-view+json": {
              "version_major": 2,
              "version_minor": 0,
              "model_id": "af0a881dd2b549eda69bae8eca220fa9"
            }
          },
          "metadata": {}
        },
        {
          "output_type": "stream",
          "name": "stdout",
          "text": [
            "Extracting /content/ParEM/datasets/MNIST/MNIST/raw/t10k-labels-idx1-ubyte.gz to /content/ParEM/datasets/MNIST/MNIST/raw\n",
            "\n"
          ]
        }
      ],
      "source": [
        "mnist = get_mnist(DATASET_PATH, N_IMAGES)  # Load dataset"
      ]
    },
    {
      "cell_type": "markdown",
      "metadata": {
        "id": "mDZ3YFSSF5zK"
      },
      "source": [
        "# Define model and training algorithm"
      ]
    },
    {
      "cell_type": "markdown",
      "source": [
        "The training algorithm selected here is `PGD`. Other algorithms have been implemented in the paper such as:\n",
        "\n",
        "* [Short Run MCMC](https://arxiv.org/abs/1912.01909) using the class called `ShortRun`.\n",
        "* [Variational Inference](https://arxiv.org/pdf/1312.6114.pdf) using the class called `VI`.\n",
        "* [Alternating Backpropagation](https://arxiv.org/abs/1606.08571) using the class called `AlternatingBackprop`.\n",
        "\n",
        "Their interface is similar to `PGD`, this can be seen in `torch/parem/algorithm`."
      ],
      "metadata": {
        "id": "RygZQoJZsqav"
      }
    },
    {
      "cell_type": "code",
      "execution_count": 6,
      "metadata": {
        "id": "TKsiYi21Falp"
      },
      "outputs": [],
      "source": [
        "# Define model:\n",
        "model = NLVM(x_dim=X_DIM, sigma2=LIKELIHOOD_VAR, nc=1).to(DEVICE)\n",
        "\n",
        "# Define training algorithm:\n",
        "pgd = PGD(model=model,\n",
        "          dataset=mnist,\n",
        "          train_batch_size=N_BATCH,\n",
        "          lambd=LAMBDA,\n",
        "          n_particles=N_PARTICLES,\n",
        "          particle_step_size=STEP_SIZE,\n",
        "          device=DEVICE,\n",
        "          theta_optimizer=OPTIMIZER)"
      ]
    },
    {
      "cell_type": "markdown",
      "metadata": {
        "id": "T2CxOMNBFjLY"
      },
      "source": [
        "# Train"
      ]
    },
    {
      "cell_type": "markdown",
      "source": [
        "Calling `{PGD , VI, AlternatingBackprop, ShortRun}.run(...)` will train the model. Using the options, we can have more transparency about the progress during training\n",
        "* `wandb_log`: Using [Weights and Biases](https://wandb.ai/site) to log the training.\n",
        "* `log_images`: Logged images using [Weights and Biases](https://wandb.ai/site).\n",
        "* `compute_stats`: Compute FID, and MSE during training process."
      ],
      "metadata": {
        "id": "42INZodJsshq"
      }
    },
    {
      "cell_type": "code",
      "execution_count": 7,
      "metadata": {
        "cellView": "code",
        "colab": {
          "base_uri": "https://localhost:8080/"
        },
        "id": "weq8_THjRHw-",
        "outputId": "8e87fde1-70a1-494e-b44f-5e7dd7278586"
      },
      "outputs": [
        {
          "output_type": "stream",
          "name": "stdout",
          "text": [
            "...............................................................................Epoch 0: Loss 1763669.307,\n",
            "...............................................................................Epoch 1: Loss 1315213.342,\n",
            "...............................................................................Epoch 2: Loss 1108404.970,\n",
            "...............................................................................Epoch 3: Loss 802229.997,\n",
            "...............................................................................Epoch 4: Loss 590813.908,\n",
            "...............................................................................Epoch 5: Loss 465926.404,\n",
            "...............................................................................Epoch 6: Loss 384988.890,\n",
            "...............................................................................Epoch 7: Loss 317974.249,\n",
            "...............................................................................Epoch 8: Loss 271462.464,\n",
            "...............................................................................Epoch 9: Loss 235271.448,\n",
            "...............................................................................Epoch 10: Loss 207076.894,\n",
            "...............................................................................Epoch 11: Loss 186170.061,\n",
            "...............................................................................Epoch 12: Loss 170488.416,\n",
            "...............................................................................Epoch 13: Loss 155517.367,\n",
            "...............................................................................Epoch 14: Loss 141066.282,\n",
            "...............................................................................Epoch 15: Loss 136820.407,\n",
            "...............................................................................Epoch 16: Loss 125623.449,\n",
            "...............................................................................Epoch 17: Loss 118095.298,\n",
            "...............................................................................Epoch 18: Loss 111178.193,\n",
            "...............................................................................Epoch 19: Loss 105825.965,\n",
            "...............................................................................Epoch 20: Loss 102212.194,\n",
            "...............................................................................Epoch 21: Loss 96982.561,\n",
            "...............................................................................Epoch 22: Loss 93427.527,\n",
            "...............................................................................Epoch 23: Loss 92289.500,\n",
            "...............................................................................Epoch 24: Loss 87600.036,\n",
            "...............................................................................Epoch 25: Loss 85309.042,\n",
            "...............................................................................Epoch 26: Loss 81394.211,\n",
            "...............................................................................Epoch 27: Loss 81248.444,\n",
            "...............................................................................Epoch 28: Loss 77773.136,\n",
            "...............................................................................Epoch 29: Loss 76532.302,\n",
            "...............................................................................Epoch 30: Loss 74487.867,\n",
            "...............................................................................Epoch 31: Loss 73410.275,\n",
            "...............................................................................Epoch 32: Loss 70580.099,\n",
            "...............................................................................Epoch 33: Loss 69032.556,\n",
            "...............................................................................Epoch 34: Loss 69236.112,\n",
            "...............................................................................Epoch 35: Loss 66547.547,\n",
            "...............................................................................Epoch 36: Loss 65117.593,\n",
            "...............................................................................Epoch 37: Loss 64939.821,\n",
            "...............................................................................Epoch 38: Loss 65936.721,\n",
            "...............................................................................Epoch 39: Loss 60931.552,\n",
            "...............................................................................Epoch 40: Loss 60237.638,\n",
            "...............................................................................Epoch 41: Loss 60568.446,\n",
            "...............................................................................Epoch 42: Loss 59924.872,\n",
            "...............................................................................Epoch 43: Loss 58363.543,\n",
            "...............................................................................Epoch 44: Loss 58203.913,\n",
            "...............................................................................Epoch 45: Loss 57465.181,\n",
            "...............................................................................Epoch 46: Loss 56262.858,\n",
            "...............................................................................Epoch 47: Loss 55237.070,\n",
            "...............................................................................Epoch 48: Loss 54933.790,\n",
            "...............................................................................Epoch 49: Loss 54071.311,\n",
            "...............................................................................Epoch 50: Loss 54504.784,\n",
            "...............................................................................Epoch 51: Loss 53173.402,\n",
            "...............................................................................Epoch 52: Loss 51740.768,\n",
            "...............................................................................Epoch 53: Loss 52372.891,\n",
            "...............................................................................Epoch 54: Loss 51623.851,\n",
            "...............................................................................Epoch 55: Loss 52356.098,\n",
            "...............................................................................Epoch 56: Loss 50249.159,\n",
            "...............................................................................Epoch 57: Loss 51013.875,\n",
            "...............................................................................Epoch 58: Loss 49322.396,\n",
            "...............................................................................Epoch 59: Loss 48886.542,\n",
            "...............................................................................Epoch 60: Loss 47533.415,\n",
            "...............................................................................Epoch 61: Loss 48641.699,\n",
            "...............................................................................Epoch 62: Loss 47938.731,\n",
            "...............................................................................Epoch 63: Loss 49867.688,\n",
            "...............................................................................Epoch 64: Loss 46384.726,\n",
            "...............................................................................Epoch 65: Loss 46584.725,\n",
            "...............................................................................Epoch 66: Loss 46772.008,\n",
            "...............................................................................Epoch 67: Loss 46418.528,\n",
            "...............................................................................Epoch 68: Loss 46231.853,\n",
            "...............................................................................Epoch 69: Loss 46282.907,\n",
            "...............................................................................Epoch 70: Loss 47178.641,\n",
            "...............................................................................Epoch 71: Loss 44681.631,\n",
            "...............................................................................Epoch 72: Loss 42614.340,\n",
            "...............................................................................Epoch 73: Loss 44729.821,\n",
            "...............................................................................Epoch 74: Loss 44208.348,\n",
            "...............................................................................Epoch 75: Loss 43846.997,\n",
            "...............................................................................Epoch 76: Loss 44475.232,\n",
            "...............................................................................Epoch 77: Loss 44142.301,\n",
            "...............................................................................Epoch 78: Loss 42415.430,\n",
            "...............................................................................Epoch 79: Loss 42742.040,\n",
            "...............................................................................Epoch 80: Loss 41218.072,\n",
            "...............................................................................Epoch 81: Loss 40604.765,\n",
            "...............................................................................Epoch 82: Loss 42433.848,\n",
            "...............................................................................Epoch 83: Loss 42019.501,\n",
            "...............................................................................Epoch 84: Loss 41556.859,\n",
            "...............................................................................Epoch 85: Loss 39974.647,\n",
            "...............................................................................Epoch 86: Loss 42500.548,\n",
            "...............................................................................Epoch 87: Loss 39663.594,\n",
            "...............................................................................Epoch 88: Loss 40088.365,\n",
            "...............................................................................Epoch 89: Loss 41472.267,\n",
            "...............................................................................Epoch 90: Loss 40977.065,\n",
            "...............................................................................Epoch 91: Loss 40884.117,\n",
            "...............................................................................Epoch 92: Loss 39033.042,\n",
            "...............................................................................Epoch 93: Loss 40118.071,\n",
            "...............................................................................Epoch 94: Loss 39282.572,\n",
            "...............................................................................Epoch 95: Loss 38826.748,\n",
            "...............................................................................Epoch 96: Loss 38148.710,\n",
            "...............................................................................Epoch 97: Loss 39558.979,\n",
            "...............................................................................Epoch 98: Loss 38095.032,\n",
            "...............................................................................Epoch 99: Loss 38541.089,\n"
          ]
        }
      ],
      "source": [
        "# Train:\n",
        "pgd.run(N_EPOCHS,\n",
        "        CHECKPOINTS_PATH + '/mnist_small_batchother.pt',\n",
        "        wandb_log=False,\n",
        "        log_images=False)"
      ]
    },
    {
      "cell_type": "markdown",
      "metadata": {
        "id": "1oKN0IuLupvF"
      },
      "source": [
        "# Show particle cloud"
      ]
    },
    {
      "cell_type": "markdown",
      "source": [
        "Calling `{PGD , VI, AlternatingBackprop, ShortRun}.sample_image_posterior(...)` will be able to view the image that corresponds to the latent variable of an image from the training dataset. The first argument is the index of the training image and the second the number of particles to visualize."
      ],
      "metadata": {
        "id": "npE3dgFtswEw"
      }
    },
    {
      "cell_type": "code",
      "execution_count": 8,
      "metadata": {
        "cellView": "form",
        "colab": {
          "base_uri": "https://localhost:8080/",
          "height": 99
        },
        "id": "N2uiBWF1KPSu",
        "outputId": "eedb77e4-c1a2-4c11-cfa1-dc69373ab7e6"
      },
      "outputs": [
        {
          "output_type": "display_data",
          "data": {
            "text/plain": [
              "<Figure size 432x288 with 1 Axes>"
            ],
            "image/png": "[encoded data removed]"
          },
          "metadata": {
            "needs_background": "light"
          }
        }
      ],
      "source": [
        "pgd.sample_image_posterior(10, N_PARTICLES)"
      ]
    },
    {
      "cell_type": "markdown",
      "metadata": {
        "id": "inHFOXauvFAM"
      },
      "source": [
        "# Inpainting"
      ]
    },
    {
      "cell_type": "markdown",
      "source": [
        "Calling `{PGD , VI, AlternatingBackprop, ShortRun}.reconstruct(img, mask=None)` will return the reconstruction of `img`. If `mask` is not `None`, then a partially occluded image is passed in and the result can be used to impute the missing pixels specified by the `mask`."
      ],
      "metadata": {
        "id": "y-fADwQdszXr"
      }
    },
    {
      "cell_type": "code",
      "execution_count": 9,
      "metadata": {
        "colab": {
          "base_uri": "https://localhost:8080/",
          "height": 1000
        },
        "id": "bF59nI7COLIO",
        "outputId": "fce7027a-ef18-4b8a-abb2-b8300ad0773e"
      },
      "outputs": [
        {
          "output_type": "display_data",
          "data": {
            "text/plain": [
              "<Figure size 432x288 with 1 Axes>"
            ],
            "image/png": "[encoded data removed]"
          },
          "metadata": {
            "needs_background": "light"
          }
        },
        {
          "output_type": "display_data",
          "data": {
            "text/plain": [
              "<Figure size 432x288 with 1 Axes>"
            ],
            "image/png": "[encoded data removed]"
          },
          "metadata": {
            "needs_background": "light"
          }
        },
        {
          "output_type": "display_data",
          "data": {
            "text/plain": [
              "<Figure size 432x288 with 1 Axes>"
            ],
            "image/png": "[encoded data removed]"
          },
          "metadata": {
            "needs_background": "light"
          }
        },
        {
          "output_type": "display_data",
          "data": {
            "text/plain": [
              "<Figure size 432x288 with 1 Axes>"
            ],
            "image/png": "[encoded data removed]"
          },
          "metadata": {
            "needs_background": "light"
          }
        },
        {
          "output_type": "display_data",
          "data": {
            "text/plain": [
              "<Figure size 432x288 with 1 Axes>"
            ],
            "image/png": "[encoded data removed]"
          },
          "metadata": {
            "needs_background": "light"
          }
        },
        {
          "output_type": "display_data",
          "data": {
            "text/plain": [
              "<Figure size 432x288 with 1 Axes>"
            ],
            "image/png": "[encoded data removed]"
          },
          "metadata": {
            "needs_background": "light"
          }
        },
        {
          "output_type": "display_data",
          "data": {
            "text/plain": [
              "<Figure size 432x288 with 1 Axes>"
            ],
            "image/png": "[encoded data removed]"
          },
          "metadata": {
            "needs_background": "light"
          }
        },
        {
          "output_type": "display_data",
          "data": {
            "text/plain": [
              "<Figure size 432x288 with 1 Axes>"
            ],
            "image/png": "[encoded data removed]"
          },
          "metadata": {
            "needs_background": "light"
          }
        },
        {
          "output_type": "display_data",
          "data": {
            "text/plain": [
              "<Figure size 432x288 with 1 Axes>"
            ],
            "image/png": "[encoded data removed]"
          },
          "metadata": {
            "needs_background": "light"
          }
        },
        {
          "output_type": "display_data",
          "data": {
            "text/plain": [
              "<Figure size 432x288 with 1 Axes>"
            ],
            "image/png": "[encoded data removed]"
          },
          "metadata": {
            "needs_background": "light"
          }
        },
        {
          "output_type": "display_data",
          "data": {
            "text/plain": [
              "<Figure size 432x288 with 1 Axes>"
            ],
            "image/png": "[encoded data removed]"
          },
          "metadata": {
            "needs_background": "light"
          }
        },
        {
          "output_type": "display_data",
          "data": {
            "text/plain": [
              "<Figure size 432x288 with 1 Axes>"
            ],
            "image/png": "[encoded data removed]"
          },
          "metadata": {
            "needs_background": "light"
          }
        },
        {
          "output_type": "display_data",
          "data": {
            "text/plain": [
              "<Figure size 432x288 with 1 Axes>"
            ],
            "image/png": "[encoded data removed]"
          },
          "metadata": {
            "needs_background": "light"
          }
        },
        {
          "output_type": "display_data",
          "data": {
            "text/plain": [
              "<Figure size 432x288 with 1 Axes>"
            ],
            "image/png": "[encoded data removed]"
          },
          "metadata": {
            "needs_background": "light"
          }
        },
        {
          "output_type": "display_data",
          "data": {
            "text/plain": [
              "<Figure size 432x288 with 1 Axes>"
            ],
            "image/png": "[encoded data removed]"
          },
          "metadata": {
            "needs_background": "light"
          }
        },
        {
          "output_type": "display_data",
          "data": {
            "text/plain": [
              "<Figure size 432x288 with 1 Axes>"
            ],
            "image/png": "[encoded data removed]"
          },
          "metadata": {
            "needs_background": "light"
          }
        },
        {
          "output_type": "display_data",
          "data": {
            "text/plain": [
              "<Figure size 432x288 with 1 Axes>"
            ],
            "image/png": "[encoded data removed]"
          },
          "metadata": {
            "needs_background": "light"
          }
        },
        {
          "output_type": "display_data",
          "data": {
            "text/plain": [
              "<Figure size 432x288 with 1 Axes>"
            ],
            "image/png": "[encoded data removed]"
          },
          "metadata": {
            "needs_background": "light"
          }
        },
        {
          "output_type": "display_data",
          "data": {
            "text/plain": [
              "<Figure size 432x288 with 1 Axes>"
            ],
            "image/png": "[encoded data removed]"
          },
          "metadata": {
            "needs_background": "light"
          }
        },
        {
          "output_type": "display_data",
          "data": {
            "text/plain": [
              "<Figure size 432x288 with 1 Axes>"
            ],
            "image/png": "[encoded data removed]"
          },
          "metadata": {
            "needs_background": "light"
          }
        }
      ],
      "source": [
        "n_missing_img = 20\n",
        "images = mnist[:n_missing_img][0]\n",
        "mask = torch.ones(mnist.height, mnist.width, dtype=torch.bool)\n",
        "\n",
        "for i in range(10, 22):\n",
        "    for j in range(10, 22):\n",
        "        mask[i, j] = False\n",
        "\n",
        "_ = pgd.reconstruct(images, mask)"
      ]
    },
    {
      "cell_type": "markdown",
      "metadata": {
        "id": "lGf5tlEluk-Y"
      },
      "source": [
        "# Generate synthetic samples"
      ]
    },
    {
      "cell_type": "markdown",
      "source": [
        "Generate samples from the model using `{PGD , VI, AlternatingBackprop, ShortRun}.synthesize_images(...)`. The optional argument `approx_type` specifies the approximation used on the posterior. If\n",
        "* `approx_type` is `gmm`. A Gaussian Mixture distribution is used, and `n_components` option specifies the number of components.\n",
        "* `approx_type` is `gaussian`. A Gaussian distribution is used.\n",
        "* `approx_type` is `gaussian_mixture_labels`. A Gaussian distribution is fitted to each class label."
      ],
      "metadata": {
        "id": "7Etyhdgns2Zs"
      }
    },
    {
      "cell_type": "code",
      "execution_count": 10,
      "metadata": {
        "colab": {
          "base_uri": "https://localhost:8080/",
          "height": 248
        },
        "id": "V-rUPIRqugao",
        "outputId": "707d8bb4-05a9-4e14-b967-cd3300825ea6"
      },
      "outputs": [
        {
          "output_type": "display_data",
          "data": {
            "text/plain": [
              "<Figure size 432x288 with 1 Axes>"
            ],
            "image/png": "[encoded data removed]"
          },
          "metadata": {
            "needs_background": "light"
          }
        }
      ],
      "source": [
        "_ = pgd.synthesize_images(n=64, approx_type='gmm', n_components=100)"
      ]
    }
  ],
  "metadata": {
    "accelerator": "GPU",
    "colab": {
      "collapsed_sections": [],
      "name": "MNIST.ipynb",
      "provenance": [],
      "include_colab_link": true
    },
    "gpuClass": "premium",
    "kernelspec": {
      "display_name": "Python 3 (ipykernel)",
      "language": "python",
      "name": "python3"
    },
    "language_info": {
      "codemirror_mode": {
        "name": "ipython",
        "version": 3
      },
      "file_extension": ".py",
      "mimetype": "text/x-python",
      "name": "python",
      "nbconvert_exporter": "python",
      "pygments_lexer": "ipython3",
      "version": "3.9.12"
    },
    "widgets": {
      "application/vnd.jupyter.widget-state+json": {
        "db78bdc724ea4e469aed6483270af3e6": {
          "model_module": "@jupyter-widgets/controls",
          "model_name": "HBoxModel",
          "model_module_version": "1.5.0",
          "state": {
            "_dom_classes": [],
            "_model_module": "@jupyter-widgets/controls",
            "_model_module_version": "1.5.0",
            "_model_name": "HBoxModel",
            "_view_count": null,
            "_view_module": "@jupyter-widgets/controls",
            "_view_module_version": "1.5.0",
            "_view_name": "HBoxView",
            "box_style": "",
            "children": [
              "IPY_MODEL_7384cc3fddb3497da7e8e74675770558",
              "IPY_MODEL_cd7b60e8f3064dd098af88aeb9aa5847",
              "IPY_MODEL_b53b5750d36746ea93834d2a539d0c49"
            ],
            "layout": "IPY_MODEL_6fd8894f974241228c18cf292eb7ad3a"
          }
        },
        "7384cc3fddb3497da7e8e74675770558": {
          "model_module": "@jupyter-widgets/controls",
          "model_name": "HTMLModel",
          "model_module_version": "1.5.0",
          "state": {
            "_dom_classes": [],
            "_model_module": "@jupyter-widgets/controls",
            "_model_module_version": "1.5.0",
            "_model_name": "HTMLModel",
            "_view_count": null,
            "_view_module": "@jupyter-widgets/controls",
            "_view_module_version": "1.5.0",
            "_view_name": "HTMLView",
            "description": "",
            "description_tooltip": null,
            "layout": "IPY_MODEL_b2d481979d0d4c8c9fba46137b8edf95",
            "placeholder": "​",
            "style": "IPY_MODEL_f59c9ba46865427fa5a040d9952a5f8e",
            "value": "100%"
          }
        },
        "cd7b60e8f3064dd098af88aeb9aa5847": {
          "model_module": "@jupyter-widgets/controls",
          "model_name": "FloatProgressModel",
          "model_module_version": "1.5.0",
          "state": {
            "_dom_classes": [],
            "_model_module": "@jupyter-widgets/controls",
            "_model_module_version": "1.5.0",
            "_model_name": "FloatProgressModel",
            "_view_count": null,
            "_view_module": "@jupyter-widgets/controls",
            "_view_module_version": "1.5.0",
            "_view_name": "ProgressView",
            "bar_style": "success",
            "description": "",
            "description_tooltip": null,
            "layout": "IPY_MODEL_74c70a3f0a774340a7232b18ee7ad5cd",
            "max": 9912422,
            "min": 0,
            "orientation": "horizontal",
            "style": "IPY_MODEL_41b3b297b219440fad014c479b3b257b",
            "value": 9912422
          }
        },
        "b53b5750d36746ea93834d2a539d0c49": {
          "model_module": "@jupyter-widgets/controls",
          "model_name": "HTMLModel",
          "model_module_version": "1.5.0",
          "state": {
            "_dom_classes": [],
            "_model_module": "@jupyter-widgets/controls",
            "_model_module_version": "1.5.0",
            "_model_name": "HTMLModel",
            "_view_count": null,
            "_view_module": "@jupyter-widgets/controls",
            "_view_module_version": "1.5.0",
            "_view_name": "HTMLView",
            "description": "",
            "description_tooltip": null,
            "layout": "IPY_MODEL_cd04b69edd6b454e873eae0b373fb58f",
            "placeholder": "​",
            "style": "IPY_MODEL_b46b0108c7a84048a64f1ac63b66db77",
            "value": " 9912422/9912422 [00:00&lt;00:00, 110145713.71it/s]"
          }
        },
        "6fd8894f974241228c18cf292eb7ad3a": {
          "model_module": "@jupyter-widgets/base",
          "model_name": "LayoutModel",
          "model_module_version": "1.2.0",
          "state": {
            "_model_module": "@jupyter-widgets/base",
            "_model_module_version": "1.2.0",
            "_model_name": "LayoutModel",
            "_view_count": null,
            "_view_module": "@jupyter-widgets/base",
            "_view_module_version": "1.2.0",
            "_view_name": "LayoutView",
            "align_content": null,
            "align_items": null,
            "align_self": null,
            "border": null,
            "bottom": null,
            "display": null,
            "flex": null,
            "flex_flow": null,
            "grid_area": null,
            "grid_auto_columns": null,
            "grid_auto_flow": null,
            "grid_auto_rows": null,
            "grid_column": null,
            "grid_gap": null,
            "grid_row": null,
            "grid_template_areas": null,
            "grid_template_columns": null,
            "grid_template_rows": null,
            "height": null,
            "justify_content": null,
            "justify_items": null,
            "left": null,
            "margin": null,
            "max_height": null,
            "max_width": null,
            "min_height": null,
            "min_width": null,
            "object_fit": null,
            "object_position": null,
            "order": null,
            "overflow": null,
            "overflow_x": null,
            "overflow_y": null,
            "padding": null,
            "right": null,
            "top": null,
            "visibility": null,
            "width": null
          }
        },
        "b2d481979d0d4c8c9fba46137b8edf95": {
          "model_module": "@jupyter-widgets/base",
          "model_name": "LayoutModel",
          "model_module_version": "1.2.0",
          "state": {
            "_model_module": "@jupyter-widgets/base",
            "_model_module_version": "1.2.0",
            "_model_name": "LayoutModel",
            "_view_count": null,
            "_view_module": "@jupyter-widgets/base",
            "_view_module_version": "1.2.0",
            "_view_name": "LayoutView",
            "align_content": null,
            "align_items": null,
            "align_self": null,
            "border": null,
            "bottom": null,
            "display": null,
            "flex": null,
            "flex_flow": null,
            "grid_area": null,
            "grid_auto_columns": null,
            "grid_auto_flow": null,
            "grid_auto_rows": null,
            "grid_column": null,
            "grid_gap": null,
            "grid_row": null,
            "grid_template_areas": null,
            "grid_template_columns": null,
            "grid_template_rows": null,
            "height": null,
            "justify_content": null,
            "justify_items": null,
            "left": null,
            "margin": null,
            "max_height": null,
            "max_width": null,
            "min_height": null,
            "min_width": null,
            "object_fit": null,
            "object_position": null,
            "order": null,
            "overflow": null,
            "overflow_x": null,
            "overflow_y": null,
            "padding": null,
            "right": null,
            "top": null,
            "visibility": null,
            "width": null
          }
        },
        "f59c9ba46865427fa5a040d9952a5f8e": {
          "model_module": "@jupyter-widgets/controls",
          "model_name": "DescriptionStyleModel",
          "model_module_version": "1.5.0",
          "state": {
            "_model_module": "@jupyter-widgets/controls",
            "_model_module_version": "1.5.0",
            "_model_name": "DescriptionStyleModel",
            "_view_count": null,
            "_view_module": "@jupyter-widgets/base",
            "_view_module_version": "1.2.0",
            "_view_name": "StyleView",
            "description_width": ""
          }
        },
        "74c70a3f0a774340a7232b18ee7ad5cd": {
          "model_module": "@jupyter-widgets/base",
          "model_name": "LayoutModel",
          "model_module_version": "1.2.0",
          "state": {
            "_model_module": "@jupyter-widgets/base",
            "_model_module_version": "1.2.0",
            "_model_name": "LayoutModel",
            "_view_count": null,
            "_view_module": "@jupyter-widgets/base",
            "_view_module_version": "1.2.0",
            "_view_name": "LayoutView",
            "align_content": null,
            "align_items": null,
            "align_self": null,
            "border": null,
            "bottom": null,
            "display": null,
            "flex": null,
            "flex_flow": null,
            "grid_area": null,
            "grid_auto_columns": null,
            "grid_auto_flow": null,
            "grid_auto_rows": null,
            "grid_column": null,
            "grid_gap": null,
            "grid_row": null,
            "grid_template_areas": null,
            "grid_template_columns": null,
            "grid_template_rows": null,
            "height": null,
            "justify_content": null,
            "justify_items": null,
            "left": null,
            "margin": null,
            "max_height": null,
            "max_width": null,
            "min_height": null,
            "min_width": null,
            "object_fit": null,
            "object_position": null,
            "order": null,
            "overflow": null,
            "overflow_x": null,
            "overflow_y": null,
            "padding": null,
            "right": null,
            "top": null,
            "visibility": null,
            "width": null
          }
        },
        "41b3b297b219440fad014c479b3b257b": {
          "model_module": "@jupyter-widgets/controls",
          "model_name": "ProgressStyleModel",
          "model_module_version": "1.5.0",
          "state": {
            "_model_module": "@jupyter-widgets/controls",
            "_model_module_version": "1.5.0",
            "_model_name": "ProgressStyleModel",
            "_view_count": null,
            "_view_module": "@jupyter-widgets/base",
            "_view_module_version": "1.2.0",
            "_view_name": "StyleView",
            "bar_color": null,
            "description_width": ""
          }
        },
        "cd04b69edd6b454e873eae0b373fb58f": {
          "model_module": "@jupyter-widgets/base",
          "model_name": "LayoutModel",
          "model_module_version": "1.2.0",
          "state": {
            "_model_module": "@jupyter-widgets/base",
            "_model_module_version": "1.2.0",
            "_model_name": "LayoutModel",
            "_view_count": null,
            "_view_module": "@jupyter-widgets/base",
            "_view_module_version": "1.2.0",
            "_view_name": "LayoutView",
            "align_content": null,
            "align_items": null,
            "align_self": null,
            "border": null,
            "bottom": null,
            "display": null,
            "flex": null,
            "flex_flow": null,
            "grid_area": null,
            "grid_auto_columns": null,
            "grid_auto_flow": null,
            "grid_auto_rows": null,
            "grid_column": null,
            "grid_gap": null,
            "grid_row": null,
            "grid_template_areas": null,
            "grid_template_columns": null,
            "grid_template_rows": null,
            "height": null,
            "justify_content": null,
            "justify_items": null,
            "left": null,
            "margin": null,
            "max_height": null,
            "max_width": null,
            "min_height": null,
            "min_width": null,
            "object_fit": null,
            "object_position": null,
            "order": null,
            "overflow": null,
            "overflow_x": null,
            "overflow_y": null,
            "padding": null,
            "right": null,
            "top": null,
            "visibility": null,
            "width": null
          }
        },
        "b46b0108c7a84048a64f1ac63b66db77": {
          "model_module": "@jupyter-widgets/controls",
          "model_name": "DescriptionStyleModel",
          "model_module_version": "1.5.0",
          "state": {
            "_model_module": "@jupyter-widgets/controls",
            "_model_module_version": "1.5.0",
            "_model_name": "DescriptionStyleModel",
            "_view_count": null,
            "_view_module": "@jupyter-widgets/base",
            "_view_module_version": "1.2.0",
            "_view_name": "StyleView",
            "description_width": ""
          }
        },
        "f865c346003f49db8a6784ffb410a290": {
          "model_module": "@jupyter-widgets/controls",
          "model_name": "HBoxModel",
          "model_module_version": "1.5.0",
          "state": {
            "_dom_classes": [],
            "_model_module": "@jupyter-widgets/controls",
            "_model_module_version": "1.5.0",
            "_model_name": "HBoxModel",
            "_view_count": null,
            "_view_module": "@jupyter-widgets/controls",
            "_view_module_version": "1.5.0",
            "_view_name": "HBoxView",
            "box_style": "",
            "children": [
              "IPY_MODEL_03fb5cd3e6d242eaadb5193ed058dc03",
              "IPY_MODEL_f7e80971be274109af504bcadd6494cd",
              "IPY_MODEL_8606c0c712b74bab9022663c02f377cb"
            ],
            "layout": "IPY_MODEL_01fe347a05894ffda5c141a9f4581640"
          }
        },
        "03fb5cd3e6d242eaadb5193ed058dc03": {
          "model_module": "@jupyter-widgets/controls",
          "model_name": "HTMLModel",
          "model_module_version": "1.5.0",
          "state": {
            "_dom_classes": [],
            "_model_module": "@jupyter-widgets/controls",
            "_model_module_version": "1.5.0",
            "_model_name": "HTMLModel",
            "_view_count": null,
            "_view_module": "@jupyter-widgets/controls",
            "_view_module_version": "1.5.0",
            "_view_name": "HTMLView",
            "description": "",
            "description_tooltip": null,
            "layout": "IPY_MODEL_9384d7bedad2447c83a82006f804dfde",
            "placeholder": "​",
            "style": "IPY_MODEL_03b004bcb2404bf294ddc25ab405be24",
            "value": "100%"
          }
        },
        "f7e80971be274109af504bcadd6494cd": {
          "model_module": "@jupyter-widgets/controls",
          "model_name": "FloatProgressModel",
          "model_module_version": "1.5.0",
          "state": {
            "_dom_classes": [],
            "_model_module": "@jupyter-widgets/controls",
            "_model_module_version": "1.5.0",
            "_model_name": "FloatProgressModel",
            "_view_count": null,
            "_view_module": "@jupyter-widgets/controls",
            "_view_module_version": "1.5.0",
            "_view_name": "ProgressView",
            "bar_style": "success",
            "description": "",
            "description_tooltip": null,
            "layout": "IPY_MODEL_d6f36fa3c6df47d789cfa4da2d8d1aac",
            "max": 28881,
            "min": 0,
            "orientation": "horizontal",
            "style": "IPY_MODEL_4f354893266444a2983c1a004693b59f",
            "value": 28881
          }
        },
        "8606c0c712b74bab9022663c02f377cb": {
          "model_module": "@jupyter-widgets/controls",
          "model_name": "HTMLModel",
          "model_module_version": "1.5.0",
          "state": {
            "_dom_classes": [],
            "_model_module": "@jupyter-widgets/controls",
            "_model_module_version": "1.5.0",
            "_model_name": "HTMLModel",
            "_view_count": null,
            "_view_module": "@jupyter-widgets/controls",
            "_view_module_version": "1.5.0",
            "_view_name": "HTMLView",
            "description": "",
            "description_tooltip": null,
            "layout": "IPY_MODEL_0d2d6f372f5b4c06b578dd38360ef762",
            "placeholder": "​",
            "style": "IPY_MODEL_8c41369719ae42f396fec3f1c0421887",
            "value": " 28881/28881 [00:00&lt;00:00, 840467.18it/s]"
          }
        },
        "01fe347a05894ffda5c141a9f4581640": {
          "model_module": "@jupyter-widgets/base",
          "model_name": "LayoutModel",
          "model_module_version": "1.2.0",
          "state": {
            "_model_module": "@jupyter-widgets/base",
            "_model_module_version": "1.2.0",
            "_model_name": "LayoutModel",
            "_view_count": null,
            "_view_module": "@jupyter-widgets/base",
            "_view_module_version": "1.2.0",
            "_view_name": "LayoutView",
            "align_content": null,
            "align_items": null,
            "align_self": null,
            "border": null,
            "bottom": null,
            "display": null,
            "flex": null,
            "flex_flow": null,
            "grid_area": null,
            "grid_auto_columns": null,
            "grid_auto_flow": null,
            "grid_auto_rows": null,
            "grid_column": null,
            "grid_gap": null,
            "grid_row": null,
            "grid_template_areas": null,
            "grid_template_columns": null,
            "grid_template_rows": null,
            "height": null,
            "justify_content": null,
            "justify_items": null,
            "left": null,
            "margin": null,
            "max_height": null,
            "max_width": null,
            "min_height": null,
            "min_width": null,
            "object_fit": null,
            "object_position": null,
            "order": null,
            "overflow": null,
            "overflow_x": null,
            "overflow_y": null,
            "padding": null,
            "right": null,
            "top": null,
            "visibility": null,
            "width": null
          }
        },
        "9384d7bedad2447c83a82006f804dfde": {
          "model_module": "@jupyter-widgets/base",
          "model_name": "LayoutModel",
          "model_module_version": "1.2.0",
          "state": {
            "_model_module": "@jupyter-widgets/base",
            "_model_module_version": "1.2.0",
            "_model_name": "LayoutModel",
            "_view_count": null,
            "_view_module": "@jupyter-widgets/base",
            "_view_module_version": "1.2.0",
            "_view_name": "LayoutView",
            "align_content": null,
            "align_items": null,
            "align_self": null,
            "border": null,
            "bottom": null,
            "display": null,
            "flex": null,
            "flex_flow": null,
            "grid_area": null,
            "grid_auto_columns": null,
            "grid_auto_flow": null,
            "grid_auto_rows": null,
            "grid_column": null,
            "grid_gap": null,
            "grid_row": null,
            "grid_template_areas": null,
            "grid_template_columns": null,
            "grid_template_rows": null,
            "height": null,
            "justify_content": null,
            "justify_items": null,
            "left": null,
            "margin": null,
            "max_height": null,
            "max_width": null,
            "min_height": null,
            "min_width": null,
            "object_fit": null,
            "object_position": null,
            "order": null,
            "overflow": null,
            "overflow_x": null,
            "overflow_y": null,
            "padding": null,
            "right": null,
            "top": null,
            "visibility": null,
            "width": null
          }
        },
        "03b004bcb2404bf294ddc25ab405be24": {
          "model_module": "@jupyter-widgets/controls",
          "model_name": "DescriptionStyleModel",
          "model_module_version": "1.5.0",
          "state": {
            "_model_module": "@jupyter-widgets/controls",
            "_model_module_version": "1.5.0",
            "_model_name": "DescriptionStyleModel",
            "_view_count": null,
            "_view_module": "@jupyter-widgets/base",
            "_view_module_version": "1.2.0",
            "_view_name": "StyleView",
            "description_width": ""
          }
        },
        "d6f36fa3c6df47d789cfa4da2d8d1aac": {
          "model_module": "@jupyter-widgets/base",
          "model_name": "LayoutModel",
          "model_module_version": "1.2.0",
          "state": {
            "_model_module": "@jupyter-widgets/base",
            "_model_module_version": "1.2.0",
            "_model_name": "LayoutModel",
            "_view_count": null,
            "_view_module": "@jupyter-widgets/base",
            "_view_module_version": "1.2.0",
            "_view_name": "LayoutView",
            "align_content": null,
            "align_items": null,
            "align_self": null,
            "border": null,
            "bottom": null,
            "display": null,
            "flex": null,
            "flex_flow": null,
            "grid_area": null,
            "grid_auto_columns": null,
            "grid_auto_flow": null,
            "grid_auto_rows": null,
            "grid_column": null,
            "grid_gap": null,
            "grid_row": null,
            "grid_template_areas": null,
            "grid_template_columns": null,
            "grid_template_rows": null,
            "height": null,
            "justify_content": null,
            "justify_items": null,
            "left": null,
            "margin": null,
            "max_height": null,
            "max_width": null,
            "min_height": null,
            "min_width": null,
            "object_fit": null,
            "object_position": null,
            "order": null,
            "overflow": null,
            "overflow_x": null,
            "overflow_y": null,
            "padding": null,
            "right": null,
            "top": null,
            "visibility": null,
            "width": null
          }
        },
        "4f354893266444a2983c1a004693b59f": {
          "model_module": "@jupyter-widgets/controls",
          "model_name": "ProgressStyleModel",
          "model_module_version": "1.5.0",
          "state": {
            "_model_module": "@jupyter-widgets/controls",
            "_model_module_version": "1.5.0",
            "_model_name": "ProgressStyleModel",
            "_view_count": null,
            "_view_module": "@jupyter-widgets/base",
            "_view_module_version": "1.2.0",
            "_view_name": "StyleView",
            "bar_color": null,
            "description_width": ""
          }
        },
        "0d2d6f372f5b4c06b578dd38360ef762": {
          "model_module": "@jupyter-widgets/base",
          "model_name": "LayoutModel",
          "model_module_version": "1.2.0",
          "state": {
            "_model_module": "@jupyter-widgets/base",
            "_model_module_version": "1.2.0",
            "_model_name": "LayoutModel",
            "_view_count": null,
            "_view_module": "@jupyter-widgets/base",
            "_view_module_version": "1.2.0",
            "_view_name": "LayoutView",
            "align_content": null,
            "align_items": null,
            "align_self": null,
            "border": null,
            "bottom": null,
            "display": null,
            "flex": null,
            "flex_flow": null,
            "grid_area": null,
            "grid_auto_columns": null,
            "grid_auto_flow": null,
            "grid_auto_rows": null,
            "grid_column": null,
            "grid_gap": null,
            "grid_row": null,
            "grid_template_areas": null,
            "grid_template_columns": null,
            "grid_template_rows": null,
            "height": null,
            "justify_content": null,
            "justify_items": null,
            "left": null,
            "margin": null,
            "max_height": null,
            "max_width": null,
            "min_height": null,
            "min_width": null,
            "object_fit": null,
            "object_position": null,
            "order": null,
            "overflow": null,
            "overflow_x": null,
            "overflow_y": null,
            "padding": null,
            "right": null,
            "top": null,
            "visibility": null,
            "width": null
          }
        },
        "8c41369719ae42f396fec3f1c0421887": {
          "model_module": "@jupyter-widgets/controls",
          "model_name": "DescriptionStyleModel",
          "model_module_version": "1.5.0",
          "state": {
            "_model_module": "@jupyter-widgets/controls",
            "_model_module_version": "1.5.0",
            "_model_name": "DescriptionStyleModel",
            "_view_count": null,
            "_view_module": "@jupyter-widgets/base",
            "_view_module_version": "1.2.0",
            "_view_name": "StyleView",
            "description_width": ""
          }
        },
        "fab8fe7d6e184c5f8c3739b7d3790460": {
          "model_module": "@jupyter-widgets/controls",
          "model_name": "HBoxModel",
          "model_module_version": "1.5.0",
          "state": {
            "_dom_classes": [],
            "_model_module": "@jupyter-widgets/controls",
            "_model_module_version": "1.5.0",
            "_model_name": "HBoxModel",
            "_view_count": null,
            "_view_module": "@jupyter-widgets/controls",
            "_view_module_version": "1.5.0",
            "_view_name": "HBoxView",
            "box_style": "",
            "children": [
              "IPY_MODEL_d8fd918543a3400a8fa21f99822d4228",
              "IPY_MODEL_7fd9cee84dbd4174a7c58f5ecfd803e8",
              "IPY_MODEL_7316d048144f41418c6fb3a3cf3861d0"
            ],
            "layout": "IPY_MODEL_73fd678729a544c2b7bd1d6b58c9c285"
          }
        },
        "d8fd918543a3400a8fa21f99822d4228": {
          "model_module": "@jupyter-widgets/controls",
          "model_name": "HTMLModel",
          "model_module_version": "1.5.0",
          "state": {
            "_dom_classes": [],
            "_model_module": "@jupyter-widgets/controls",
            "_model_module_version": "1.5.0",
            "_model_name": "HTMLModel",
            "_view_count": null,
            "_view_module": "@jupyter-widgets/controls",
            "_view_module_version": "1.5.0",
            "_view_name": "HTMLView",
            "description": "",
            "description_tooltip": null,
            "layout": "IPY_MODEL_dba16405e30d4ef0b99f6f06c74c0e60",
            "placeholder": "​",
            "style": "IPY_MODEL_941e15624fd242c38e3a0a3344dffc10",
            "value": "100%"
          }
        },
        "7fd9cee84dbd4174a7c58f5ecfd803e8": {
          "model_module": "@jupyter-widgets/controls",
          "model_name": "FloatProgressModel",
          "model_module_version": "1.5.0",
          "state": {
            "_dom_classes": [],
            "_model_module": "@jupyter-widgets/controls",
            "_model_module_version": "1.5.0",
            "_model_name": "FloatProgressModel",
            "_view_count": null,
            "_view_module": "@jupyter-widgets/controls",
            "_view_module_version": "1.5.0",
            "_view_name": "ProgressView",
            "bar_style": "success",
            "description": "",
            "description_tooltip": null,
            "layout": "IPY_MODEL_24f306a65884416d8a23dde278b86516",
            "max": 1648877,
            "min": 0,
            "orientation": "horizontal",
            "style": "IPY_MODEL_bc7649c6c1f34350866773cbff697057",
            "value": 1648877
          }
        },
        "7316d048144f41418c6fb3a3cf3861d0": {
          "model_module": "@jupyter-widgets/controls",
          "model_name": "HTMLModel",
          "model_module_version": "1.5.0",
          "state": {
            "_dom_classes": [],
            "_model_module": "@jupyter-widgets/controls",
            "_model_module_version": "1.5.0",
            "_model_name": "HTMLModel",
            "_view_count": null,
            "_view_module": "@jupyter-widgets/controls",
            "_view_module_version": "1.5.0",
            "_view_name": "HTMLView",
            "description": "",
            "description_tooltip": null,
            "layout": "IPY_MODEL_fa3999bfd22040bb976f076ba21cc364",
            "placeholder": "​",
            "style": "IPY_MODEL_c17e52f9deda4c53ab2876a2b6e62ef2",
            "value": " 1648877/1648877 [00:00&lt;00:00, 29636020.57it/s]"
          }
        },
        "73fd678729a544c2b7bd1d6b58c9c285": {
          "model_module": "@jupyter-widgets/base",
          "model_name": "LayoutModel",
          "model_module_version": "1.2.0",
          "state": {
            "_model_module": "@jupyter-widgets/base",
            "_model_module_version": "1.2.0",
            "_model_name": "LayoutModel",
            "_view_count": null,
            "_view_module": "@jupyter-widgets/base",
            "_view_module_version": "1.2.0",
            "_view_name": "LayoutView",
            "align_content": null,
            "align_items": null,
            "align_self": null,
            "border": null,
            "bottom": null,
            "display": null,
            "flex": null,
            "flex_flow": null,
            "grid_area": null,
            "grid_auto_columns": null,
            "grid_auto_flow": null,
            "grid_auto_rows": null,
            "grid_column": null,
            "grid_gap": null,
            "grid_row": null,
            "grid_template_areas": null,
            "grid_template_columns": null,
            "grid_template_rows": null,
            "height": null,
            "justify_content": null,
            "justify_items": null,
            "left": null,
            "margin": null,
            "max_height": null,
            "max_width": null,
            "min_height": null,
            "min_width": null,
            "object_fit": null,
            "object_position": null,
            "order": null,
            "overflow": null,
            "overflow_x": null,
            "overflow_y": null,
            "padding": null,
            "right": null,
            "top": null,
            "visibility": null,
            "width": null
          }
        },
        "dba16405e30d4ef0b99f6f06c74c0e60": {
          "model_module": "@jupyter-widgets/base",
          "model_name": "LayoutModel",
          "model_module_version": "1.2.0",
          "state": {
            "_model_module": "@jupyter-widgets/base",
            "_model_module_version": "1.2.0",
            "_model_name": "LayoutModel",
            "_view_count": null,
            "_view_module": "@jupyter-widgets/base",
            "_view_module_version": "1.2.0",
            "_view_name": "LayoutView",
            "align_content": null,
            "align_items": null,
            "align_self": null,
            "border": null,
            "bottom": null,
            "display": null,
            "flex": null,
            "flex_flow": null,
            "grid_area": null,
            "grid_auto_columns": null,
            "grid_auto_flow": null,
            "grid_auto_rows": null,
            "grid_column": null,
            "grid_gap": null,
            "grid_row": null,
            "grid_template_areas": null,
            "grid_template_columns": null,
            "grid_template_rows": null,
            "height": null,
            "justify_content": null,
            "justify_items": null,
            "left": null,
            "margin": null,
            "max_height": null,
            "max_width": null,
            "min_height": null,
            "min_width": null,
            "object_fit": null,
            "object_position": null,
            "order": null,
            "overflow": null,
            "overflow_x": null,
            "overflow_y": null,
            "padding": null,
            "right": null,
            "top": null,
            "visibility": null,
            "width": null
          }
        },
        "941e15624fd242c38e3a0a3344dffc10": {
          "model_module": "@jupyter-widgets/controls",
          "model_name": "DescriptionStyleModel",
          "model_module_version": "1.5.0",
          "state": {
            "_model_module": "@jupyter-widgets/controls",
            "_model_module_version": "1.5.0",
            "_model_name": "DescriptionStyleModel",
            "_view_count": null,
            "_view_module": "@jupyter-widgets/base",
            "_view_module_version": "1.2.0",
            "_view_name": "StyleView",
            "description_width": ""
          }
        },
        "24f306a65884416d8a23dde278b86516": {
          "model_module": "@jupyter-widgets/base",
          "model_name": "LayoutModel",
          "model_module_version": "1.2.0",
          "state": {
            "_model_module": "@jupyter-widgets/base",
            "_model_module_version": "1.2.0",
            "_model_name": "LayoutModel",
            "_view_count": null,
            "_view_module": "@jupyter-widgets/base",
            "_view_module_version": "1.2.0",
            "_view_name": "LayoutView",
            "align_content": null,
            "align_items": null,
            "align_self": null,
            "border": null,
            "bottom": null,
            "display": null,
            "flex": null,
            "flex_flow": null,
            "grid_area": null,
            "grid_auto_columns": null,
            "grid_auto_flow": null,
            "grid_auto_rows": null,
            "grid_column": null,
            "grid_gap": null,
            "grid_row": null,
            "grid_template_areas": null,
            "grid_template_columns": null,
            "grid_template_rows": null,
            "height": null,
            "justify_content": null,
            "justify_items": null,
            "left": null,
            "margin": null,
            "max_height": null,
            "max_width": null,
            "min_height": null,
            "min_width": null,
            "object_fit": null,
            "object_position": null,
            "order": null,
            "overflow": null,
            "overflow_x": null,
            "overflow_y": null,
            "padding": null,
            "right": null,
            "top": null,
            "visibility": null,
            "width": null
          }
        },
        "bc7649c6c1f34350866773cbff697057": {
          "model_module": "@jupyter-widgets/controls",
          "model_name": "ProgressStyleModel",
          "model_module_version": "1.5.0",
          "state": {
            "_model_module": "@jupyter-widgets/controls",
            "_model_module_version": "1.5.0",
            "_model_name": "ProgressStyleModel",
            "_view_count": null,
            "_view_module": "@jupyter-widgets/base",
            "_view_module_version": "1.2.0",
            "_view_name": "StyleView",
            "bar_color": null,
            "description_width": ""
          }
        },
        "fa3999bfd22040bb976f076ba21cc364": {
          "model_module": "@jupyter-widgets/base",
          "model_name": "LayoutModel",
          "model_module_version": "1.2.0",
          "state": {
            "_model_module": "@jupyter-widgets/base",
            "_model_module_version": "1.2.0",
            "_model_name": "LayoutModel",
            "_view_count": null,
            "_view_module": "@jupyter-widgets/base",
            "_view_module_version": "1.2.0",
            "_view_name": "LayoutView",
            "align_content": null,
            "align_items": null,
            "align_self": null,
            "border": null,
            "bottom": null,
            "display": null,
            "flex": null,
            "flex_flow": null,
            "grid_area": null,
            "grid_auto_columns": null,
            "grid_auto_flow": null,
            "grid_auto_rows": null,
            "grid_column": null,
            "grid_gap": null,
            "grid_row": null,
            "grid_template_areas": null,
            "grid_template_columns": null,
            "grid_template_rows": null,
            "height": null,
            "justify_content": null,
            "justify_items": null,
            "left": null,
            "margin": null,
            "max_height": null,
            "max_width": null,
            "min_height": null,
            "min_width": null,
            "object_fit": null,
            "object_position": null,
            "order": null,
            "overflow": null,
            "overflow_x": null,
            "overflow_y": null,
            "padding": null,
            "right": null,
            "top": null,
            "visibility": null,
            "width": null
          }
        },
        "c17e52f9deda4c53ab2876a2b6e62ef2": {
          "model_module": "@jupyter-widgets/controls",
          "model_name": "DescriptionStyleModel",
          "model_module_version": "1.5.0",
          "state": {
            "_model_module": "@jupyter-widgets/controls",
            "_model_module_version": "1.5.0",
            "_model_name": "DescriptionStyleModel",
            "_view_count": null,
            "_view_module": "@jupyter-widgets/base",
            "_view_module_version": "1.2.0",
            "_view_name": "StyleView",
            "description_width": ""
          }
        },
        "af0a881dd2b549eda69bae8eca220fa9": {
          "model_module": "@jupyter-widgets/controls",
          "model_name": "HBoxModel",
          "model_module_version": "1.5.0",
          "state": {
            "_dom_classes": [],
            "_model_module": "@jupyter-widgets/controls",
            "_model_module_version": "1.5.0",
            "_model_name": "HBoxModel",
            "_view_count": null,
            "_view_module": "@jupyter-widgets/controls",
            "_view_module_version": "1.5.0",
            "_view_name": "HBoxView",
            "box_style": "",
            "children": [
              "IPY_MODEL_c690615201cd4796a149a28a533969d9",
              "IPY_MODEL_ade4fb3a610b4207ac78d04be4a7e776",
              "IPY_MODEL_a8e94823260a4d9d8da81216d947bc1e"
            ],
            "layout": "IPY_MODEL_d178d803da9d41afb84cf914a2e8fa3a"
          }
        },
        "c690615201cd4796a149a28a533969d9": {
          "model_module": "@jupyter-widgets/controls",
          "model_name": "HTMLModel",
          "model_module_version": "1.5.0",
          "state": {
            "_dom_classes": [],
            "_model_module": "@jupyter-widgets/controls",
            "_model_module_version": "1.5.0",
            "_model_name": "HTMLModel",
            "_view_count": null,
            "_view_module": "@jupyter-widgets/controls",
            "_view_module_version": "1.5.0",
            "_view_name": "HTMLView",
            "description": "",
            "description_tooltip": null,
            "layout": "IPY_MODEL_6d2f6a989b7047b589f0e15050905f44",
            "placeholder": "​",
            "style": "IPY_MODEL_a3529ce446fa46b39b8dfbffb2ac0948",
            "value": "100%"
          }
        },
        "ade4fb3a610b4207ac78d04be4a7e776": {
          "model_module": "@jupyter-widgets/controls",
          "model_name": "FloatProgressModel",
          "model_module_version": "1.5.0",
          "state": {
            "_dom_classes": [],
            "_model_module": "@jupyter-widgets/controls",
            "_model_module_version": "1.5.0",
            "_model_name": "FloatProgressModel",
            "_view_count": null,
            "_view_module": "@jupyter-widgets/controls",
            "_view_module_version": "1.5.0",
            "_view_name": "ProgressView",
            "bar_style": "success",
            "description": "",
            "description_tooltip": null,
            "layout": "IPY_MODEL_d079022e498548208f29d194d1bbc6b2",
            "max": 4542,
            "min": 0,
            "orientation": "horizontal",
            "style": "IPY_MODEL_1c265b91246342ea8397daad10a0465f",
            "value": 4542
          }
        },
        "a8e94823260a4d9d8da81216d947bc1e": {
          "model_module": "@jupyter-widgets/controls",
          "model_name": "HTMLModel",
          "model_module_version": "1.5.0",
          "state": {
            "_dom_classes": [],
            "_model_module": "@jupyter-widgets/controls",
            "_model_module_version": "1.5.0",
            "_model_name": "HTMLModel",
            "_view_count": null,
            "_view_module": "@jupyter-widgets/controls",
            "_view_module_version": "1.5.0",
            "_view_name": "HTMLView",
            "description": "",
            "description_tooltip": null,
            "layout": "IPY_MODEL_d15c7e992d444a4ebbce83491e18568e",
            "placeholder": "​",
            "style": "IPY_MODEL_e763d465f5b64464b001e2e16b52e17a",
            "value": " 4542/4542 [00:00&lt;00:00, 90927.24it/s]"
          }
        },
        "d178d803da9d41afb84cf914a2e8fa3a": {
          "model_module": "@jupyter-widgets/base",
          "model_name": "LayoutModel",
          "model_module_version": "1.2.0",
          "state": {
            "_model_module": "@jupyter-widgets/base",
            "_model_module_version": "1.2.0",
            "_model_name": "LayoutModel",
            "_view_count": null,
            "_view_module": "@jupyter-widgets/base",
            "_view_module_version": "1.2.0",
            "_view_name": "LayoutView",
            "align_content": null,
            "align_items": null,
            "align_self": null,
            "border": null,
            "bottom": null,
            "display": null,
            "flex": null,
            "flex_flow": null,
            "grid_area": null,
            "grid_auto_columns": null,
            "grid_auto_flow": null,
            "grid_auto_rows": null,
            "grid_column": null,
            "grid_gap": null,
            "grid_row": null,
            "grid_template_areas": null,
            "grid_template_columns": null,
            "grid_template_rows": null,
            "height": null,
            "justify_content": null,
            "justify_items": null,
            "left": null,
            "margin": null,
            "max_height": null,
            "max_width": null,
            "min_height": null,
            "min_width": null,
            "object_fit": null,
            "object_position": null,
            "order": null,
            "overflow": null,
            "overflow_x": null,
            "overflow_y": null,
            "padding": null,
            "right": null,
            "top": null,
            "visibility": null,
            "width": null
          }
        },
        "6d2f6a989b7047b589f0e15050905f44": {
          "model_module": "@jupyter-widgets/base",
          "model_name": "LayoutModel",
          "model_module_version": "1.2.0",
          "state": {
            "_model_module": "@jupyter-widgets/base",
            "_model_module_version": "1.2.0",
            "_model_name": "LayoutModel",
            "_view_count": null,
            "_view_module": "@jupyter-widgets/base",
            "_view_module_version": "1.2.0",
            "_view_name": "LayoutView",
            "align_content": null,
            "align_items": null,
            "align_self": null,
            "border": null,
            "bottom": null,
            "display": null,
            "flex": null,
            "flex_flow": null,
            "grid_area": null,
            "grid_auto_columns": null,
            "grid_auto_flow": null,
            "grid_auto_rows": null,
            "grid_column": null,
            "grid_gap": null,
            "grid_row": null,
            "grid_template_areas": null,
            "grid_template_columns": null,
            "grid_template_rows": null,
            "height": null,
            "justify_content": null,
            "justify_items": null,
            "left": null,
            "margin": null,
            "max_height": null,
            "max_width": null,
            "min_height": null,
            "min_width": null,
            "object_fit": null,
            "object_position": null,
            "order": null,
            "overflow": null,
            "overflow_x": null,
            "overflow_y": null,
            "padding": null,
            "right": null,
            "top": null,
            "visibility": null,
            "width": null
          }
        },
        "a3529ce446fa46b39b8dfbffb2ac0948": {
          "model_module": "@jupyter-widgets/controls",
          "model_name": "DescriptionStyleModel",
          "model_module_version": "1.5.0",
          "state": {
            "_model_module": "@jupyter-widgets/controls",
            "_model_module_version": "1.5.0",
            "_model_name": "DescriptionStyleModel",
            "_view_count": null,
            "_view_module": "@jupyter-widgets/base",
            "_view_module_version": "1.2.0",
            "_view_name": "StyleView",
            "description_width": ""
          }
        },
        "d079022e498548208f29d194d1bbc6b2": {
          "model_module": "@jupyter-widgets/base",
          "model_name": "LayoutModel",
          "model_module_version": "1.2.0",
          "state": {
            "_model_module": "@jupyter-widgets/base",
            "_model_module_version": "1.2.0",
            "_model_name": "LayoutModel",
            "_view_count": null,
            "_view_module": "@jupyter-widgets/base",
            "_view_module_version": "1.2.0",
            "_view_name": "LayoutView",
            "align_content": null,
            "align_items": null,
            "align_self": null,
            "border": null,
            "bottom": null,
            "display": null,
            "flex": null,
            "flex_flow": null,
            "grid_area": null,
            "grid_auto_columns": null,
            "grid_auto_flow": null,
            "grid_auto_rows": null,
            "grid_column": null,
            "grid_gap": null,
            "grid_row": null,
            "grid_template_areas": null,
            "grid_template_columns": null,
            "grid_template_rows": null,
            "height": null,
            "justify_content": null,
            "justify_items": null,
            "left": null,
            "margin": null,
            "max_height": null,
            "max_width": null,
            "min_height": null,
            "min_width": null,
            "object_fit": null,
            "object_position": null,
            "order": null,
            "overflow": null,
            "overflow_x": null,
            "overflow_y": null,
            "padding": null,
            "right": null,
            "top": null,
            "visibility": null,
            "width": null
          }
        },
        "1c265b91246342ea8397daad10a0465f": {
          "model_module": "@jupyter-widgets/controls",
          "model_name": "ProgressStyleModel",
          "model_module_version": "1.5.0",
          "state": {
            "_model_module": "@jupyter-widgets/controls",
            "_model_module_version": "1.5.0",
            "_model_name": "ProgressStyleModel",
            "_view_count": null,
            "_view_module": "@jupyter-widgets/base",
            "_view_module_version": "1.2.0",
            "_view_name": "StyleView",
            "bar_color": null,
            "description_width": ""
          }
        },
        "d15c7e992d444a4ebbce83491e18568e": {
          "model_module": "@jupyter-widgets/base",
          "model_name": "LayoutModel",
          "model_module_version": "1.2.0",
          "state": {
            "_model_module": "@jupyter-widgets/base",
            "_model_module_version": "1.2.0",
            "_model_name": "LayoutModel",
            "_view_count": null,
            "_view_module": "@jupyter-widgets/base",
            "_view_module_version": "1.2.0",
            "_view_name": "LayoutView",
            "align_content": null,
            "align_items": null,
            "align_self": null,
            "border": null,
            "bottom": null,
            "display": null,
            "flex": null,
            "flex_flow": null,
            "grid_area": null,
            "grid_auto_columns": null,
            "grid_auto_flow": null,
            "grid_auto_rows": null,
            "grid_column": null,
            "grid_gap": null,
            "grid_row": null,
            "grid_template_areas": null,
            "grid_template_columns": null,
            "grid_template_rows": null,
            "height": null,
            "justify_content": null,
            "justify_items": null,
            "left": null,
            "margin": null,
            "max_height": null,
            "max_width": null,
            "min_height": null,
            "min_width": null,
            "object_fit": null,
            "object_position": null,
            "order": null,
            "overflow": null,
            "overflow_x": null,
            "overflow_y": null,
            "padding": null,
            "right": null,
            "top": null,
            "visibility": null,
            "width": null
          }
        },
        "e763d465f5b64464b001e2e16b52e17a": {
          "model_module": "@jupyter-widgets/controls",
          "model_name": "DescriptionStyleModel",
          "model_module_version": "1.5.0",
          "state": {
            "_model_module": "@jupyter-widgets/controls",
            "_model_module_version": "1.5.0",
            "_model_name": "DescriptionStyleModel",
            "_view_count": null,
            "_view_module": "@jupyter-widgets/base",
            "_view_module_version": "1.2.0",
            "_view_name": "StyleView",
            "description_width": ""
          }
        }
      }
    }
  },
  "nbformat": 4,
  "nbformat_minor": 0
}